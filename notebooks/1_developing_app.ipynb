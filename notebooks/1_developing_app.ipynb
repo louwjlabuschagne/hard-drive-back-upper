{
 "cells": [
  {
   "cell_type": "markdown",
   "metadata": {
    "toc": true
   },
   "source": [
    "<h1>Table of Contents<span class=\"tocSkip\"></span></h1>\n",
    "<div class=\"toc\"><ul class=\"toc-item\"><li><span><a href=\"#Hard-Drive-Back-Upper\" data-toc-modified-id=\"Hard-Drive-Back-Upper-1\">Hard Drive Back Upper</a></span></li></ul></div>"
   ]
  },
  {
   "cell_type": "markdown",
   "metadata": {},
   "source": [
    "# Hard Drive Back Upper\n",
    "The purpose of this notebook is to develop the code that copies all new files in a source directory to a target directory.\n",
    "\n",
    "Rules for conflicts:\n",
    "+ If the **same** file exists in both the source and destination don't copy. Here the same means\n",
    "    + Same full file path\n",
    "+ If the file exists on the source but not the destination copy it across\n",
    "+ If the file exists on the destination but not the source, leave it on the destination\n",
    "\n",
    "The current implementation will ignore empty folders."
   ]
  },
  {
   "cell_type": "code",
   "execution_count": 11,
   "metadata": {
    "ExecuteTime": {
     "end_time": "2019-04-17T15:15:39.927056Z",
     "start_time": "2019-04-17T15:15:39.922706Z"
    }
   },
   "outputs": [],
   "source": [
    "import os\n",
    "from shutil import copyfile\n",
    "from time import gmtime, strftime\n",
    "\n",
    "def log_print(message):\n",
    "    print('[%s]: %s'%(strftime(\"%Y-%m-%d %H:%M:%S\", gmtime()), message))\n",
    "    \n",
    "def files_in_dir(root_dir):\n",
    "    file_set = set()\n",
    "\n",
    "    for dir_, _, files in os.walk(root_dir):\n",
    "        for file_name in files:\n",
    "            rel_dir = os.path.relpath(dir_, root_dir)\n",
    "            rel_file = os.path.join(rel_dir, file_name)\n",
    "            file_set.add(rel_file)\n",
    "    return file_set"
   ]
  },
  {
   "cell_type": "code",
   "execution_count": 12,
   "metadata": {
    "ExecuteTime": {
     "end_time": "2019-04-17T15:15:39.932441Z",
     "start_time": "2019-04-17T15:15:39.929726Z"
    }
   },
   "outputs": [],
   "source": [
    "base_dir = '/Users/louwrenslabuschagne/Documents/gitProjects/hard-drive-back-upper/'\n",
    "src_drive = base_dir+'tests/my_src_mnt/'\n",
    "dst_drive = base_dir+'tests/my_dst_mnt/'"
   ]
  },
  {
   "cell_type": "code",
   "execution_count": 22,
   "metadata": {
    "ExecuteTime": {
     "end_time": "2019-04-17T15:41:06.466455Z",
     "start_time": "2019-04-17T15:41:06.459532Z"
    }
   },
   "outputs": [
    {
     "data": {
      "text/plain": [
       "{'./newFile.txt',\n",
       " './newnewFile.t',\n",
       " 'folder_1/aFile1.txt',\n",
       " 'folder_1/aFile2.txt',\n",
       " 'folder_1/sub_folder_1/aFile1.txt',\n",
       " 'folder_2/aFile1.txt',\n",
       " 'newFolder/more.txt',\n",
       " 'newFolder/newFile2.txt'}"
      ]
     },
     "execution_count": 22,
     "metadata": {},
     "output_type": "execute_result"
    }
   ],
   "source": [
    "src_files = files_in_dir(src_drive)\n",
    "#macOS creates DS_Store files for each folder, this just removes them from our source files to copy\n",
    "src_files = set([file for file in src_files if 'DS_Store' not in file])\n",
    "src_files"
   ]
  },
  {
   "cell_type": "code",
   "execution_count": 23,
   "metadata": {
    "ExecuteTime": {
     "end_time": "2019-04-17T15:41:08.378633Z",
     "start_time": "2019-04-17T15:41:08.372270Z"
    }
   },
   "outputs": [
    {
     "data": {
      "text/plain": [
       "{'./asdf',\n",
       " './newFile.txt',\n",
       " './newnewFile.t',\n",
       " 'folder_1/aFile1.txt',\n",
       " 'folder_1/aFile2.txt',\n",
       " 'folder_1/sub_folder_1/aFile1.txt',\n",
       " 'folder_2/aFile1.txt',\n",
       " 'newFolder/more.txt',\n",
       " 'newFolder/newFile2.txt'}"
      ]
     },
     "execution_count": 23,
     "metadata": {},
     "output_type": "execute_result"
    }
   ],
   "source": [
    "dst_files = files_in_dir(dst_drive)\n",
    "dst_files = set([file for file in dst_files if 'DS_Store' not in file])\n",
    "dst_files"
   ]
  },
  {
   "cell_type": "code",
   "execution_count": 25,
   "metadata": {
    "ExecuteTime": {
     "end_time": "2019-04-17T15:41:29.869056Z",
     "start_time": "2019-04-17T15:41:29.863987Z"
    }
   },
   "outputs": [
    {
     "data": {
      "text/plain": [
       "[]"
      ]
     },
     "execution_count": 25,
     "metadata": {},
     "output_type": "execute_result"
    }
   ],
   "source": [
    "files_that_are_on_the_src_and_not_on_the_dst = [file for file in src_files if file not in dst_files]\n",
    "files_that_are_on_the_src_and_not_on_the_dst "
   ]
  },
  {
   "cell_type": "code",
   "execution_count": 15,
   "metadata": {
    "ExecuteTime": {
     "end_time": "2019-04-17T15:15:39.959950Z",
     "start_time": "2019-04-17T15:15:39.953026Z"
    }
   },
   "outputs": [
    {
     "name": "stdout",
     "output_type": "stream",
     "text": [
      "[2019-04-17 15:15:39]: Start\n",
      "[2019-04-17 15:15:39]: Found 0 new files to copy\n",
      "[2019-04-17 15:15:39]: End\n"
     ]
    }
   ],
   "source": [
    "log_print('Start')\n",
    "# The ^ operator is used on sets in Python and gives the difference in elements in 2 sets\n",
    "# in other words, files that we've not coppied\n",
    "files_that_are_on_the_src_and_not_on_the_dst = src_files ^ dst_files\n",
    "log_print('Found %d new files to copy'%len(files_that_are_on_the_src_and_not_on_the_dst))\n",
    "\n",
    "#if there are new files to copy\n",
    "if len(files_that_are_on_the_src_and_not_on_the_dst) != 0:\n",
    "    log_print('New files files to be copied %s'%str(files_that_are_on_the_src_and_not_on_the_dst))\n",
    "    log_print('Copying started')\n",
    "    for file in files_that_are_on_the_src_and_not_on_the_dst:\n",
    "        #get the full file path of the source and destination files\n",
    "        dst_file = dst_drive+file \n",
    "        src_file = src_drive+file\n",
    "\n",
    "        #but if the folders don't exists, we first need to create them\n",
    "        #this gets the destination folder for file\n",
    "        dst_folder = dst_file.rsplit('/', maxsplit=1)[0]\n",
    "\n",
    "        #check if the destination folder exists, if not create it\n",
    "        if not os.path.exists(dst_folder):\n",
    "            os.makedirs(dst_folder)\n",
    "            log_print('Created folder %s'%('dst:/'+dst_folder.replace(dst_drive, '')))\n",
    "\n",
    "        copyfile(src_file, dst_file)\n",
    "        log_print('Coppied %s --> %s'%('src:/'+file, 'dst:/'+file))\n",
    "    log_print('Copying Complete')\n",
    "log_print('End')"
   ]
  },
  {
   "cell_type": "code",
   "execution_count": 21,
   "metadata": {
    "ExecuteTime": {
     "end_time": "2019-04-17T15:27:50.127750Z",
     "start_time": "2019-04-17T15:27:50.122751Z"
    }
   },
   "outputs": [
    {
     "name": "stdout",
     "output_type": "stream",
     "text": [
      "hallo\n"
     ]
    }
   ],
   "source": [
    "if bool('a') & bool('a'):\n",
    "    print('hallo')"
   ]
  },
  {
   "cell_type": "code",
   "execution_count": null,
   "metadata": {},
   "outputs": [],
   "source": []
  }
 ],
 "metadata": {
  "kernelspec": {
   "display_name": "Python 3",
   "language": "python",
   "name": "python3"
  },
  "language_info": {
   "codemirror_mode": {
    "name": "ipython",
    "version": 3
   },
   "file_extension": ".py",
   "mimetype": "text/x-python",
   "name": "python",
   "nbconvert_exporter": "python",
   "pygments_lexer": "ipython3",
   "version": "3.6.8"
  },
  "latex_envs": {
   "LaTeX_envs_menu_present": true,
   "autoclose": false,
   "autocomplete": true,
   "bibliofile": "biblio.bib",
   "cite_by": "apalike",
   "current_citInitial": 1,
   "eqLabelWithNumbers": true,
   "eqNumInitial": 1,
   "hotkeys": {
    "equation": "Ctrl-E",
    "itemize": "Ctrl-I"
   },
   "labels_anchors": false,
   "latex_user_defs": false,
   "report_style_numbering": false,
   "user_envs_cfg": false
  },
  "toc": {
   "nav_menu": {},
   "number_sections": false,
   "sideBar": true,
   "skip_h1_title": false,
   "title_cell": "Table of Contents",
   "title_sidebar": "Contents",
   "toc_cell": true,
   "toc_position": {},
   "toc_section_display": true,
   "toc_window_display": false
  },
  "varInspector": {
   "cols": {
    "lenName": 16,
    "lenType": 16,
    "lenVar": 40
   },
   "kernels_config": {
    "python": {
     "delete_cmd_postfix": "",
     "delete_cmd_prefix": "del ",
     "library": "var_list.py",
     "varRefreshCmd": "print(var_dic_list())"
    },
    "r": {
     "delete_cmd_postfix": ") ",
     "delete_cmd_prefix": "rm(",
     "library": "var_list.r",
     "varRefreshCmd": "cat(var_dic_list()) "
    }
   },
   "types_to_exclude": [
    "module",
    "function",
    "builtin_function_or_method",
    "instance",
    "_Feature"
   ],
   "window_display": false
  }
 },
 "nbformat": 4,
 "nbformat_minor": 2
}
