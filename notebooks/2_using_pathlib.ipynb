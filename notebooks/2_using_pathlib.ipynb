{
 "cells": [
  {
   "cell_type": "markdown",
   "metadata": {
    "toc": true
   },
   "source": [
    "<h1>Table of Contents<span class=\"tocSkip\"></span></h1>\n",
    "<div class=\"toc\"><ul class=\"toc-item\"></ul></div>"
   ]
  },
  {
   "cell_type": "code",
   "execution_count": 3,
   "metadata": {
    "ExecuteTime": {
     "end_time": "2019-04-23T14:25:54.459465Z",
     "start_time": "2019-04-23T14:25:54.453921Z"
    }
   },
   "outputs": [
    {
     "name": "stdout",
     "output_type": "stream",
     "text": [
      "\n"
     ]
    }
   ],
   "source": [
    "from pathlib import Path\n",
    "\n",
    "data_folder = Path('../tests/my_src_mnt')\n",
    "\n",
    "file_to_open = data_folder / 'newFile.txt'\n",
    "\n",
    "f = open(file_to_open)\n",
    "\n",
    "print(f.read())"
   ]
  },
  {
   "cell_type": "code",
   "execution_count": 4,
   "metadata": {
    "ExecuteTime": {
     "end_time": "2019-04-23T14:27:31.692810Z",
     "start_time": "2019-04-23T14:27:31.670222Z"
    }
   },
   "outputs": [
    {
     "name": "stdout",
     "output_type": "stream",
     "text": [
      "variables\n",
      "src_drive: ../tests/my_src_mnt/ \n",
      "dst_drive: ../tests/my_dst_mnt// \n",
      "v: True\n",
      "[2019-04-23 14:27:31]: App Start\n",
      "[2019-04-23 14:27:31]: There are 10 files in the source directory\n",
      "[2019-04-23 14:27:31]: There are 10 files in the destination directory\n",
      "[2019-04-23 14:27:31]: Found 0 new files to copy\n",
      "[2019-04-23 14:27:31]: App End\n"
     ]
    }
   ],
   "source": [
    "import os\n",
    "import argparse\n",
    "from shutil import copyfile\n",
    "from time import gmtime, strftime\n",
    "\n",
    "def log_print(message):\n",
    "    \"\"\"\n",
    "    A print function with the timestamp\n",
    "    \"\"\"\n",
    "    print('[%s]: %s'%(strftime(\"%Y-%m-%d %H:%M:%S\", gmtime()), message))\n",
    "\n",
    "def files_in_dir(root_dir):\n",
    "    \"\"\"\n",
    "    A function to get the full file paths for all files in root_dir\n",
    "    \"\"\"\n",
    "    file_set = set()\n",
    "\n",
    "    for dir_, _, files in os.walk(root_dir):\n",
    "        for file_name in files:\n",
    "            rel_dir = os.path.relpath(dir_, root_dir)\n",
    "            rel_file = os.path.join(rel_dir, file_name)\n",
    "            file_set.add(rel_file)\n",
    "    return file_set\n",
    "\n",
    "\n",
    "\n",
    "src_drive = '../tests/my_src_mnt/'\n",
    "dst_drive = '../tests/my_dst_mnt//'\n",
    "v = True\n",
    "\n",
    "print('variables')\n",
    "\n",
    "print(\"src_drive: %s \\ndst_drive: %s \\nv: %s\"%(src_drive, dst_drive, str(v)))\n",
    "\n",
    "#if we have both a source and a destination drive, then continue\n",
    "if (bool(src_drive)) & (bool(dst_drive)):\n",
    "    if v: log_print('App Start')\n",
    "    src_files = files_in_dir(src_drive)\n",
    "    #macOS creates DS_Store files for each folder, this just removes them from our source files to copy\n",
    "    src_files = set([file for file in src_files if 'DS_Store' not in file])\n",
    "    if v: log_print('There are %d files in the source directory'%len(src_files))\n",
    "\n",
    "    dst_files = files_in_dir(dst_drive)\n",
    "    #macOS creates DS_Store files for each folder, this just removes them from our destination files to copy\n",
    "    dst_files = set([file for file in dst_files if 'DS_Store' not in file])\n",
    "    if v: log_print('There are %d files in the destination directory'%len(dst_files))\n",
    "\n",
    "    files_that_are_on_the_src_and_not_on_the_dst = [file for file in src_files if file not in dst_files]\n",
    "    if v: log_print('Found %d new files to copy'%len(files_that_are_on_the_src_and_not_on_the_dst))\n",
    "\n",
    "    #if there are new files to copy\n",
    "    if len(files_that_are_on_the_src_and_not_on_the_dst) != 0:\n",
    "        if v: log_print('New files to be copied %s'%str(files_that_are_on_the_src_and_not_on_the_dst))\n",
    "        if v: log_print('Copying started')\n",
    "        for file in files_that_are_on_the_src_and_not_on_the_dst:\n",
    "            #get the full file path of the source and destination files\n",
    "            dst_file = dst_drive+file\n",
    "            src_file = src_drive+file\n",
    "\n",
    "            #but if the folders don't exists, we first need to create them\n",
    "            #this gets the destination folder for file\n",
    "            dst_folder = dst_file.rsplit('/', maxsplit=1)[0]\n",
    "\n",
    "            #check if the destination folder exists, if not create it\n",
    "            if not os.path.exists(dst_folder):\n",
    "                os.makedirs(dst_folder)\n",
    "                if v: log_print('Created folder %s'%('dst:/'+dst_folder.replace(dst_drive, '')))\n",
    "\n",
    "            #the actual copying happens here\n",
    "            copyfile(src_file, dst_file)\n",
    "            if v: log_print('Coppied %s --> %s'%('src:/'+file, 'dst:/'+file))\n",
    "        if v: log_print('Copying Complete')\n",
    "    if v: log_print('App End')\n",
    "else:\n",
    "    print('Please specify src_dir and dst_dir. See -h for help.')\n"
   ]
  },
  {
   "cell_type": "code",
   "execution_count": null,
   "metadata": {},
   "outputs": [],
   "source": []
  }
 ],
 "metadata": {
  "kernelspec": {
   "display_name": "Python 3",
   "language": "python",
   "name": "python3"
  },
  "language_info": {
   "codemirror_mode": {
    "name": "ipython",
    "version": 3
   },
   "file_extension": ".py",
   "mimetype": "text/x-python",
   "name": "python",
   "nbconvert_exporter": "python",
   "pygments_lexer": "ipython3",
   "version": "3.6.8"
  },
  "latex_envs": {
   "LaTeX_envs_menu_present": true,
   "autoclose": false,
   "autocomplete": true,
   "bibliofile": "biblio.bib",
   "cite_by": "apalike",
   "current_citInitial": 1,
   "eqLabelWithNumbers": true,
   "eqNumInitial": 1,
   "hotkeys": {
    "equation": "Ctrl-E",
    "itemize": "Ctrl-I"
   },
   "labels_anchors": false,
   "latex_user_defs": false,
   "report_style_numbering": false,
   "user_envs_cfg": false
  },
  "toc": {
   "nav_menu": {},
   "number_sections": false,
   "sideBar": true,
   "skip_h1_title": false,
   "title_cell": "Table of Contents",
   "title_sidebar": "Contents",
   "toc_cell": true,
   "toc_position": {},
   "toc_section_display": true,
   "toc_window_display": false
  },
  "varInspector": {
   "cols": {
    "lenName": 16,
    "lenType": 16,
    "lenVar": 40
   },
   "kernels_config": {
    "python": {
     "delete_cmd_postfix": "",
     "delete_cmd_prefix": "del ",
     "library": "var_list.py",
     "varRefreshCmd": "print(var_dic_list())"
    },
    "r": {
     "delete_cmd_postfix": ") ",
     "delete_cmd_prefix": "rm(",
     "library": "var_list.r",
     "varRefreshCmd": "cat(var_dic_list()) "
    }
   },
   "types_to_exclude": [
    "module",
    "function",
    "builtin_function_or_method",
    "instance",
    "_Feature"
   ],
   "window_display": false
  }
 },
 "nbformat": 4,
 "nbformat_minor": 2
}
